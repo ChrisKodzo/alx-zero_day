{
  "nbformat": 4,
  "nbformat_minor": 0,
  "metadata": {
    "kernelspec": {
      "display_name": "R",
      "language": "R",
      "name": "ir"
    },
    "language_info": {
      "codemirror_mode": "r",
      "file_extension": ".r",
      "mimetype": "text/x-r-source",
      "name": "R",
      "pygments_lexer": "r",
      "version": "3.3.1"
    },
    "colab": {
      "provenance": [],
      "include_colab_link": true
    }
  },
  "cells": [
    {
      "cell_type": "markdown",
      "metadata": {
        "id": "view-in-github",
        "colab_type": "text"
      },
      "source": [
        "<a href=\"https://colab.research.google.com/github/ChrisKodzo/alx-zero_day/blob/main/R_DataStructures.ipynb\" target=\"_parent\"><img src=\"https://colab.research.google.com/assets/colab-badge.svg\" alt=\"Open In Colab\"/></a>"
      ]
    },
    {
      "cell_type": "code",
      "source": [
        "# create a vector\n",
        "# my_vec1 = c(1L, 2L, 3L)\n",
        "# print(my_vec1)\n",
        "\n",
        "# my_vec2 = 1:3\n",
        "# print(my_vec2)\n",
        "\n",
        "# my_vec3 = seq(from = 1, to = 3, by = 1)\n",
        "# print(my_vec3)\n",
        "\n",
        "# Functions on objects\n",
        "# length of objects\n",
        "# length(my_vec1)\n",
        "\n",
        "# class of objects\n",
        "# class(my_vec2)\n",
        "# class(my_vec3)\n",
        "\n",
        "# type of objects\n",
        "# typeof(my_vec3)\n",
        "\n",
        "# str on objects\n",
        "# str(my_vec3)\n",
        "\n",
        "\n",
        "\n",
        "# Access elements of a vector\n",
        "# my_vec1[1]\n",
        "\n",
        "# Modify element of a vector\n",
        "# my_vec1[1] = 10\n",
        "# print(my_vec1)\n",
        "\n",
        "# my_vec1[2] = 20\n",
        "# print(my_vec1)\n",
        "\n",
        "# my_vec1[3] = 30\n",
        "# print(my_vec1)\n",
        "\n",
        "# Missing data\n",
        "# my_vec4 = c(1, 2, NA, 4)\n",
        "# print(my_vec4)\n",
        "\n",
        "# Inbuilt fuction is.na\n",
        "# is.na(my_vec4)\n",
        "\n",
        "# Inbuilt fuction 'anyNA'\n",
        "# anyNA(my_vec4)\n",
        "\n",
        "\n",
        "# Special values\n",
        "1/0\n",
        "0/0\n",
        "\n",
        "# List \n",
        "# create an empty list\n",
        "# my_list1 = list(5)\n",
        "# print(my_list1)\n",
        "\n",
        "# my_list2 = list(1, 'name', c('a', 'b', 'c'))\n",
        "# print(my_list2)\n",
        "\n",
        "\n",
        "# Assing names to slots of list\n",
        "# names(my_list2) = c('first', 'second', 'third')\n",
        "# str(my_list2)\n",
        "\n",
        "# Access elements of a list\n",
        "# my_list2[3] \n",
        "\n",
        "# Modify elements of a list\n",
        "#  my_list2[1] = 12\n",
        "#  print(my_list2)\n",
        "\n",
        "#  my_list2[2] = 24\n",
        "#  print(my_list2)\n",
        "\n",
        "# Matrix\n",
        "# create a matrix\n",
        "# my_matrix1 = matrix(c(1,2,3,4), nrow = 2, ncol = 2)\n",
        "# print(my_matrix1)\n",
        "\n",
        "# my_matrix2 = matrix(c(1,2,3,4,5,6), nrow = 2, ncol = 3)\n",
        "# print(my_matrix2)\n",
        "\n",
        "# my_matrix3 = matrix(c(1,2,3,4,5,6), nrow = 2, ncol = 3, byrow = TRUE)\n",
        "# print(my_matrix3)  \n",
        "\n",
        "# Assign rows and columns names\n",
        "# rownames(my_matrix2) = c('row1', 'row2')\n",
        "# colnames(my_matrix2) = c('col1', 'col2', 'col3')\n",
        "# print(my_matrix2)\n",
        "# str(my_matrix2)\n",
        "\n",
        "# Access the elements of matrix\n",
        "# my_matrix2[1, 2]\n",
        "# my_matrix2[2, 2]\n",
        "# my_matrix2[1, 1]\n",
        "\n",
        "# Modify the elememts of matrix\n",
        "#  my_matrix2[1, 2] = 10\n",
        "#  my_matrix2[2, 2] = 20\n",
        "#  my_matrix2[1, 1] = 5\n",
        "#  print(my_matrix2[1, 2])\n",
        "#  print(my_matrix2[2, 2])\n",
        "#  print(my_matrix2[1, 1])\n",
        "#  print(my_matrix2)\n",
        "\n",
        "\n",
        " # DATAFRAME\n",
        " # Create a dataframe manually\n",
        " ID = c('A', 'B', 'C')\n",
        " Age = c(21, 22, 20)\n",
        " Height = c(150, 160, 170)  \n",
        "sData = data.frame(ID, Age, Height)\n",
        "#print(sData)\n",
        " \n",
        "\n",
        "# Assign names to Dataframe\n",
        "\n",
        "rownames(sData)= c('Adam', 'Bob', 'Chris')\n",
        "colnames(sData)= c('ID', 'Age', 'Height')\n",
        "\n",
        "# structure of Dataframe\n",
        "str(sData)\n",
        "\n",
        "# print 1st five rows\n",
        "# using the head fuction\n",
        "head(sData, 2)\n",
        "\n",
        "# Print last five rows\n",
        "# using the tail function\n",
        "tail(sData, 2)\n",
        "\n",
        "# get the dimension of the data frame\n",
        "# the dim gives both the number of rows and columns\n",
        "dim(sData)\n",
        "\n",
        "# Number of rows in the data frame\n",
        "# using the nrow function\n",
        "nrow(sData)\n",
        "\n",
        "# Number of columns in the data frame\n",
        "# using the ncol function\n",
        "ncol(sData)\n",
        "\n",
        "# Access a paticular column\n",
        "# using '$' or '[]' or [[]], using double square brackets will givve you the same result as the function using $\n",
        "sData$Age\n",
        "sData[['Age']]\n",
        "sData['Age']\n",
        "\n",
        "# Access a paticular row\n",
        "sData['Chris', ]\n",
        "# ['Chris', ] means we giving the instruction to go to this paticular slot. Everything pertaining to this slot\n",
        "\n",
        "\n",
        "# Access multiple columns\n",
        "# In accessing the multiple columns use the 'c' vector function\n",
        "sData[c('ID', 'Age')]\n",
        "sData[c('Age', 'Height')]\n",
        "\n",
        "\n",
        "\n",
        "\n"
      ],
      "metadata": {
        "colab": {
          "base_uri": "https://localhost:8080/",
          "height": 1000
        },
        "id": "hmmYWJTNLxtt",
        "outputId": "6159cf7f-e77f-4074-ea88-a741dd6dc79d"
      },
      "execution_count": 78,
      "outputs": [
        {
          "output_type": "display_data",
          "data": {
            "text/html": [
              "Inf"
            ],
            "text/markdown": "Inf",
            "text/latex": "Inf",
            "text/plain": [
              "[1] Inf"
            ]
          },
          "metadata": {}
        },
        {
          "output_type": "display_data",
          "data": {
            "text/html": [
              "NaN"
            ],
            "text/markdown": "NaN",
            "text/latex": "NaN",
            "text/plain": [
              "[1] NaN"
            ]
          },
          "metadata": {}
        },
        {
          "output_type": "stream",
          "name": "stdout",
          "text": [
            "'data.frame':\t3 obs. of  3 variables:\n",
            " $ ID    : chr  \"A\" \"B\" \"C\"\n",
            " $ Age   : num  21 22 20\n",
            " $ Height: num  150 160 170\n"
          ]
        },
        {
          "output_type": "display_data",
          "data": {
            "text/html": [
              "<table class=\"dataframe\">\n",
              "<caption>A data.frame: 2 × 3</caption>\n",
              "<thead>\n",
              "\t<tr><th></th><th scope=col>ID</th><th scope=col>Age</th><th scope=col>Height</th></tr>\n",
              "\t<tr><th></th><th scope=col>&lt;chr&gt;</th><th scope=col>&lt;dbl&gt;</th><th scope=col>&lt;dbl&gt;</th></tr>\n",
              "</thead>\n",
              "<tbody>\n",
              "\t<tr><th scope=row>Adam</th><td>A</td><td>21</td><td>150</td></tr>\n",
              "\t<tr><th scope=row>Bob</th><td>B</td><td>22</td><td>160</td></tr>\n",
              "</tbody>\n",
              "</table>\n"
            ],
            "text/markdown": "\nA data.frame: 2 × 3\n\n| <!--/--> | ID &lt;chr&gt; | Age &lt;dbl&gt; | Height &lt;dbl&gt; |\n|---|---|---|---|\n| Adam | A | 21 | 150 |\n| Bob | B | 22 | 160 |\n\n",
            "text/latex": "A data.frame: 2 × 3\n\\begin{tabular}{r|lll}\n  & ID & Age & Height\\\\\n  & <chr> & <dbl> & <dbl>\\\\\n\\hline\n\tAdam & A & 21 & 150\\\\\n\tBob & B & 22 & 160\\\\\n\\end{tabular}\n",
            "text/plain": [
              "     ID Age Height\n",
              "Adam A  21  150   \n",
              "Bob  B  22  160   "
            ]
          },
          "metadata": {}
        },
        {
          "output_type": "display_data",
          "data": {
            "text/html": [
              "<table class=\"dataframe\">\n",
              "<caption>A data.frame: 2 × 3</caption>\n",
              "<thead>\n",
              "\t<tr><th></th><th scope=col>ID</th><th scope=col>Age</th><th scope=col>Height</th></tr>\n",
              "\t<tr><th></th><th scope=col>&lt;chr&gt;</th><th scope=col>&lt;dbl&gt;</th><th scope=col>&lt;dbl&gt;</th></tr>\n",
              "</thead>\n",
              "<tbody>\n",
              "\t<tr><th scope=row>Bob</th><td>B</td><td>22</td><td>160</td></tr>\n",
              "\t<tr><th scope=row>Chris</th><td>C</td><td>20</td><td>170</td></tr>\n",
              "</tbody>\n",
              "</table>\n"
            ],
            "text/markdown": "\nA data.frame: 2 × 3\n\n| <!--/--> | ID &lt;chr&gt; | Age &lt;dbl&gt; | Height &lt;dbl&gt; |\n|---|---|---|---|\n| Bob | B | 22 | 160 |\n| Chris | C | 20 | 170 |\n\n",
            "text/latex": "A data.frame: 2 × 3\n\\begin{tabular}{r|lll}\n  & ID & Age & Height\\\\\n  & <chr> & <dbl> & <dbl>\\\\\n\\hline\n\tBob & B & 22 & 160\\\\\n\tChris & C & 20 & 170\\\\\n\\end{tabular}\n",
            "text/plain": [
              "      ID Age Height\n",
              "Bob   B  22  160   \n",
              "Chris C  20  170   "
            ]
          },
          "metadata": {}
        },
        {
          "output_type": "display_data",
          "data": {
            "text/html": [
              "<style>\n",
              ".list-inline {list-style: none; margin:0; padding: 0}\n",
              ".list-inline>li {display: inline-block}\n",
              ".list-inline>li:not(:last-child)::after {content: \"\\00b7\"; padding: 0 .5ex}\n",
              "</style>\n",
              "<ol class=list-inline><li>3</li><li>3</li></ol>\n"
            ],
            "text/markdown": "1. 3\n2. 3\n\n\n",
            "text/latex": "\\begin{enumerate*}\n\\item 3\n\\item 3\n\\end{enumerate*}\n",
            "text/plain": [
              "[1] 3 3"
            ]
          },
          "metadata": {}
        },
        {
          "output_type": "display_data",
          "data": {
            "text/html": [
              "3"
            ],
            "text/markdown": "3",
            "text/latex": "3",
            "text/plain": [
              "[1] 3"
            ]
          },
          "metadata": {}
        },
        {
          "output_type": "display_data",
          "data": {
            "text/html": [
              "3"
            ],
            "text/markdown": "3",
            "text/latex": "3",
            "text/plain": [
              "[1] 3"
            ]
          },
          "metadata": {}
        },
        {
          "output_type": "display_data",
          "data": {
            "text/html": [
              "<style>\n",
              ".list-inline {list-style: none; margin:0; padding: 0}\n",
              ".list-inline>li {display: inline-block}\n",
              ".list-inline>li:not(:last-child)::after {content: \"\\00b7\"; padding: 0 .5ex}\n",
              "</style>\n",
              "<ol class=list-inline><li>21</li><li>22</li><li>20</li></ol>\n"
            ],
            "text/markdown": "1. 21\n2. 22\n3. 20\n\n\n",
            "text/latex": "\\begin{enumerate*}\n\\item 21\n\\item 22\n\\item 20\n\\end{enumerate*}\n",
            "text/plain": [
              "[1] 21 22 20"
            ]
          },
          "metadata": {}
        },
        {
          "output_type": "display_data",
          "data": {
            "text/html": [
              "<style>\n",
              ".list-inline {list-style: none; margin:0; padding: 0}\n",
              ".list-inline>li {display: inline-block}\n",
              ".list-inline>li:not(:last-child)::after {content: \"\\00b7\"; padding: 0 .5ex}\n",
              "</style>\n",
              "<ol class=list-inline><li>21</li><li>22</li><li>20</li></ol>\n"
            ],
            "text/markdown": "1. 21\n2. 22\n3. 20\n\n\n",
            "text/latex": "\\begin{enumerate*}\n\\item 21\n\\item 22\n\\item 20\n\\end{enumerate*}\n",
            "text/plain": [
              "[1] 21 22 20"
            ]
          },
          "metadata": {}
        },
        {
          "output_type": "display_data",
          "data": {
            "text/html": [
              "<table class=\"dataframe\">\n",
              "<caption>A data.frame: 3 × 1</caption>\n",
              "<thead>\n",
              "\t<tr><th></th><th scope=col>Age</th></tr>\n",
              "\t<tr><th></th><th scope=col>&lt;dbl&gt;</th></tr>\n",
              "</thead>\n",
              "<tbody>\n",
              "\t<tr><th scope=row>Adam</th><td>21</td></tr>\n",
              "\t<tr><th scope=row>Bob</th><td>22</td></tr>\n",
              "\t<tr><th scope=row>Chris</th><td>20</td></tr>\n",
              "</tbody>\n",
              "</table>\n"
            ],
            "text/markdown": "\nA data.frame: 3 × 1\n\n| <!--/--> | Age &lt;dbl&gt; |\n|---|---|\n| Adam | 21 |\n| Bob | 22 |\n| Chris | 20 |\n\n",
            "text/latex": "A data.frame: 3 × 1\n\\begin{tabular}{r|l}\n  & Age\\\\\n  & <dbl>\\\\\n\\hline\n\tAdam & 21\\\\\n\tBob & 22\\\\\n\tChris & 20\\\\\n\\end{tabular}\n",
            "text/plain": [
              "      Age\n",
              "Adam  21 \n",
              "Bob   22 \n",
              "Chris 20 "
            ]
          },
          "metadata": {}
        },
        {
          "output_type": "display_data",
          "data": {
            "text/html": [
              "<table class=\"dataframe\">\n",
              "<caption>A data.frame: 1 × 3</caption>\n",
              "<thead>\n",
              "\t<tr><th></th><th scope=col>ID</th><th scope=col>Age</th><th scope=col>Height</th></tr>\n",
              "\t<tr><th></th><th scope=col>&lt;chr&gt;</th><th scope=col>&lt;dbl&gt;</th><th scope=col>&lt;dbl&gt;</th></tr>\n",
              "</thead>\n",
              "<tbody>\n",
              "\t<tr><th scope=row>Chris</th><td>C</td><td>20</td><td>170</td></tr>\n",
              "</tbody>\n",
              "</table>\n"
            ],
            "text/markdown": "\nA data.frame: 1 × 3\n\n| <!--/--> | ID &lt;chr&gt; | Age &lt;dbl&gt; | Height &lt;dbl&gt; |\n|---|---|---|---|\n| Chris | C | 20 | 170 |\n\n",
            "text/latex": "A data.frame: 1 × 3\n\\begin{tabular}{r|lll}\n  & ID & Age & Height\\\\\n  & <chr> & <dbl> & <dbl>\\\\\n\\hline\n\tChris & C & 20 & 170\\\\\n\\end{tabular}\n",
            "text/plain": [
              "      ID Age Height\n",
              "Chris C  20  170   "
            ]
          },
          "metadata": {}
        },
        {
          "output_type": "display_data",
          "data": {
            "text/html": [
              "<table class=\"dataframe\">\n",
              "<caption>A data.frame: 3 × 2</caption>\n",
              "<thead>\n",
              "\t<tr><th></th><th scope=col>ID</th><th scope=col>Age</th></tr>\n",
              "\t<tr><th></th><th scope=col>&lt;chr&gt;</th><th scope=col>&lt;dbl&gt;</th></tr>\n",
              "</thead>\n",
              "<tbody>\n",
              "\t<tr><th scope=row>Adam</th><td>A</td><td>21</td></tr>\n",
              "\t<tr><th scope=row>Bob</th><td>B</td><td>22</td></tr>\n",
              "\t<tr><th scope=row>Chris</th><td>C</td><td>20</td></tr>\n",
              "</tbody>\n",
              "</table>\n"
            ],
            "text/markdown": "\nA data.frame: 3 × 2\n\n| <!--/--> | ID &lt;chr&gt; | Age &lt;dbl&gt; |\n|---|---|---|\n| Adam | A | 21 |\n| Bob | B | 22 |\n| Chris | C | 20 |\n\n",
            "text/latex": "A data.frame: 3 × 2\n\\begin{tabular}{r|ll}\n  & ID & Age\\\\\n  & <chr> & <dbl>\\\\\n\\hline\n\tAdam & A & 21\\\\\n\tBob & B & 22\\\\\n\tChris & C & 20\\\\\n\\end{tabular}\n",
            "text/plain": [
              "      ID Age\n",
              "Adam  A  21 \n",
              "Bob   B  22 \n",
              "Chris C  20 "
            ]
          },
          "metadata": {}
        },
        {
          "output_type": "display_data",
          "data": {
            "text/html": [
              "<table class=\"dataframe\">\n",
              "<caption>A data.frame: 3 × 2</caption>\n",
              "<thead>\n",
              "\t<tr><th></th><th scope=col>Age</th><th scope=col>Height</th></tr>\n",
              "\t<tr><th></th><th scope=col>&lt;dbl&gt;</th><th scope=col>&lt;dbl&gt;</th></tr>\n",
              "</thead>\n",
              "<tbody>\n",
              "\t<tr><th scope=row>Adam</th><td>21</td><td>150</td></tr>\n",
              "\t<tr><th scope=row>Bob</th><td>22</td><td>160</td></tr>\n",
              "\t<tr><th scope=row>Chris</th><td>20</td><td>170</td></tr>\n",
              "</tbody>\n",
              "</table>\n"
            ],
            "text/markdown": "\nA data.frame: 3 × 2\n\n| <!--/--> | Age &lt;dbl&gt; | Height &lt;dbl&gt; |\n|---|---|---|\n| Adam | 21 | 150 |\n| Bob | 22 | 160 |\n| Chris | 20 | 170 |\n\n",
            "text/latex": "A data.frame: 3 × 2\n\\begin{tabular}{r|ll}\n  & Age & Height\\\\\n  & <dbl> & <dbl>\\\\\n\\hline\n\tAdam & 21 & 150\\\\\n\tBob & 22 & 160\\\\\n\tChris & 20 & 170\\\\\n\\end{tabular}\n",
            "text/plain": [
              "      Age Height\n",
              "Adam  21  150   \n",
              "Bob   22  160   \n",
              "Chris 20  170   "
            ]
          },
          "metadata": {}
        }
      ]
    },
    {
      "cell_type": "code",
      "source": [
        "\n",
        "# FACTOR\n",
        "# create a factor for storing a list of genders\n",
        "gender = factor(c('Male', 'Male', 'Female', 'Female'))\n",
        "print(gender)\n",
        "\n",
        "# In-built function on factors\n",
        " # level function\n",
        " levels(gender)\n",
        "\n",
        " # Modify a gender\n",
        " gender[1] = 'Female'\n",
        " print(gender)"
      ],
      "metadata": {
        "colab": {
          "base_uri": "https://localhost:8080/",
          "height": 104
        },
        "id": "0FQrwG9yFPhC",
        "outputId": "b013d828-bc72-4f06-df25-3c9b9ca3db06"
      },
      "execution_count": 87,
      "outputs": [
        {
          "output_type": "stream",
          "name": "stdout",
          "text": [
            "[1] Male   Male   Female Female\n",
            "Levels: Female Male\n"
          ]
        },
        {
          "output_type": "display_data",
          "data": {
            "text/html": [
              "<style>\n",
              ".list-inline {list-style: none; margin:0; padding: 0}\n",
              ".list-inline>li {display: inline-block}\n",
              ".list-inline>li:not(:last-child)::after {content: \"\\00b7\"; padding: 0 .5ex}\n",
              "</style>\n",
              "<ol class=list-inline><li>'Female'</li><li>'Male'</li></ol>\n"
            ],
            "text/markdown": "1. 'Female'\n2. 'Male'\n\n\n",
            "text/latex": "\\begin{enumerate*}\n\\item 'Female'\n\\item 'Male'\n\\end{enumerate*}\n",
            "text/plain": [
              "[1] \"Female\" \"Male\"  "
            ]
          },
          "metadata": {}
        },
        {
          "output_type": "stream",
          "name": "stdout",
          "text": [
            "[1] Female Male   Female Female\n",
            "Levels: Female Male\n"
          ]
        }
      ]
    }
  ]
}